{
 "cells": [
  {
   "cell_type": "markdown",
   "metadata": {},
   "source": [
    "# DSC540 -Data Preparation\n",
    "# Lenin Kamma \n",
    "# Week 1 and Week2 - 03/21/2020"
   ]
  },
  {
   "cell_type": "code",
   "execution_count": null,
   "metadata": {},
   "outputs": [],
   "source": [
    "import numpy as np\n",
    "import pandas as pd"
   ]
  },
  {
   "cell_type": "markdown",
   "metadata": {},
   "source": [
    "# Exercise # 1\n",
    "# Create a list"
   ]
  },
  {
   "cell_type": "code",
   "execution_count": 5,
   "metadata": {},
   "outputs": [
    {
     "name": "stdout",
     "output_type": "stream",
     "text": [
      "[0, 1, 2, 3, 4, 5, 6, 7, 8, 9, 10, 11, 12, 13, 14, 15, 16, 17, 18, 19, 20, 21, 22, 23, 24, 25, 26, 27, 28, 29, 30, 31, 32, 33, 34, 35, 36, 37, 38, 39, 40, 41, 42, 43, 44, 45, 46, 47, 48, 49, 50, 51, 52, 53, 54, 55, 56, 57, 58, 59, 60, 61, 62, 63, 64, 65, 66, 67, 68, 69, 70, 71, 72, 73, 74, 75, 76, 77, 78, 79, 80, 81, 82, 83, 84, 85, 86, 87, 88, 89, 90, 91, 92, 93, 94, 95, 96, 97, 98, 99]\n"
     ]
    }
   ],
   "source": [
    "list1 = [ x for x in range(0, 100)]\n",
    "print(list1)"
   ]
  },
  {
   "cell_type": "raw",
   "metadata": {},
   "source": [
    "# Sort list"
   ]
  },
  {
   "cell_type": "code",
   "execution_count": 14,
   "metadata": {},
   "outputs": [
    {
     "name": "stdout",
     "output_type": "stream",
     "text": [
      "[99, 98, 97, 96, 95, 94, 93, 92, 91, 90, 89, 88, 87, 86, 85, 84, 83, 82, 81, 80, 79, 78, 77, 76, 75, 74, 73, 72, 71, 70, 69, 68, 67, 66, 65, 64, 63, 62, 61, 60, 59, 58, 57, 56, 55, 54, 53, 52, 51, 50, 49, 48, 47, 46, 45, 44, 43, 42, 41, 40, 39, 38, 37, 36, 35, 34, 33, 32, 31, 30, 29, 28, 27, 26, 25, 24, 23, 22, 21, 20, 19, 18, 17, 16, 15, 14, 13, 12, 11, 10, 9, 8, 7, 6, 5, 4, 3, 2, 1, 0]\n"
     ]
    }
   ],
   "source": [
    "list1.sort(reverse=True)\n",
    "print(list1)"
   ]
  },
  {
   "cell_type": "raw",
   "metadata": {},
   "source": [
    "# Generate random numbers and create a list\n",
    "# Print list"
   ]
  },
  {
   "cell_type": "code",
   "execution_count": 21,
   "metadata": {},
   "outputs": [
    {
     "name": "stdout",
     "output_type": "stream",
     "text": [
      "[23, 18, 25, 25, 16, 45, 33, 19, 44, 40, 28, 23, 23, 14, 17, 16, 37, 36, 39, 38, 26, 25, 31, 25, 34, 43, 34, 25, 25, 18, 28, 15, 38, 42, 29, 13, 33, 35, 45, 33, 20, 17, 17, 44, 15, 32, 45, 26, 44]\n"
     ]
    }
   ],
   "source": [
    "import random\n",
    "list2 = [random.randint(12, 45) for x in range(1, 50)]\n",
    "print(list2)"
   ]
  },
  {
   "cell_type": "markdown",
   "metadata": {},
   "source": [
    "# Exercise # 2\n",
    "# Create a line chart with matplotlib using a file"
   ]
  },
  {
   "cell_type": "code",
   "execution_count": 2,
   "metadata": {},
   "outputs": [],
   "source": [
    "import matplotlib.pyplot as plt\n",
    "import pandas as pd"
   ]
  },
  {
   "cell_type": "raw",
   "metadata": {},
   "source": [
    "# create a dataframe using world population file"
   ]
  },
  {
   "cell_type": "code",
   "execution_count": 9,
   "metadata": {},
   "outputs": [
    {
     "data": {
      "text/html": [
       "<div>\n",
       "<style scoped>\n",
       "    .dataframe tbody tr th:only-of-type {\n",
       "        vertical-align: middle;\n",
       "    }\n",
       "\n",
       "    .dataframe tbody tr th {\n",
       "        vertical-align: top;\n",
       "    }\n",
       "\n",
       "    .dataframe thead th {\n",
       "        text-align: right;\n",
       "    }\n",
       "</style>\n",
       "<table border=\"1\" class=\"dataframe\">\n",
       "  <thead>\n",
       "    <tr style=\"text-align: right;\">\n",
       "      <th></th>\n",
       "      <th>Year</th>\n",
       "      <th>Population</th>\n",
       "    </tr>\n",
       "  </thead>\n",
       "  <tbody>\n",
       "    <tr>\n",
       "      <td>0</td>\n",
       "      <td>1960</td>\n",
       "      <td>3028654024</td>\n",
       "    </tr>\n",
       "    <tr>\n",
       "      <td>1</td>\n",
       "      <td>1961</td>\n",
       "      <td>3068356747</td>\n",
       "    </tr>\n",
       "    <tr>\n",
       "      <td>2</td>\n",
       "      <td>1962</td>\n",
       "      <td>3121963107</td>\n",
       "    </tr>\n",
       "    <tr>\n",
       "      <td>3</td>\n",
       "      <td>1963</td>\n",
       "      <td>3187471383</td>\n",
       "    </tr>\n",
       "    <tr>\n",
       "      <td>4</td>\n",
       "      <td>1964</td>\n",
       "      <td>3253112403</td>\n",
       "    </tr>\n",
       "  </tbody>\n",
       "</table>\n",
       "</div>"
      ],
      "text/plain": [
       "   Year  Population\n",
       "0  1960  3028654024\n",
       "1  1961  3068356747\n",
       "2  1962  3121963107\n",
       "3  1963  3187471383\n",
       "4  1964  3253112403"
      ]
     },
     "execution_count": 9,
     "metadata": {},
     "output_type": "execute_result"
    }
   ],
   "source": [
    "df = pd.read_csv(\"C:\\Lenin Data Science\\world-population.csv\") \n",
    "df.head()"
   ]
  },
  {
   "cell_type": "raw",
   "metadata": {},
   "source": [
    "# Create a line chart"
   ]
  },
  {
   "cell_type": "code",
   "execution_count": 11,
   "metadata": {},
   "outputs": [
    {
     "data": {
      "image/png": "[encoded data removed]",
      "text/plain": [
       "<Figure size 432x288 with 1 Axes>"
      ]
     },
     "metadata": {
      "needs_background": "light"
     },
     "output_type": "display_data"
    }
   ],
   "source": [
    "df.plot(kind='line',x='Year',y='Population',color='green')\n",
    "plt.xlabel('Year')\n",
    "plt.ylabel('Population(Billions)')\n",
    "plt.title('World Population')\n",
    "plt.show()"
   ]
  },
  {
   "cell_type": "markdown",
   "metadata": {},
   "source": [
    "# Exercise # 3\n",
    "# a. Data Wrangling with Python: Activity 1 page 17"
   ]
  },
  {
   "cell_type": "raw",
   "metadata": {},
   "source": [
    "# Create a list of 100 random numbers"
   ]
  },
  {
   "cell_type": "code",
   "execution_count": 62,
   "metadata": {},
   "outputs": [
    {
     "name": "stdout",
     "output_type": "stream",
     "text": [
      "[43, 15, 22, 42, 26, 47, 40, 41, 40, 15, 23, 14, 35, 38, 39, 42, 10, 15, 33, 39, 28, 28, 25, 19, 29, 11, 34, 17, 48, 29, 40, 32, 11, 32, 22, 24, 50, 16, 33, 19, 42, 28, 34, 43, 37, 22, 24, 27, 36, 21, 44, 38, 19, 30, 42, 34, 45, 47, 41, 35, 31, 30, 31, 42, 34, 17, 12, 50, 15, 50, 29, 33, 29, 50, 44, 28, 45, 47, 12, 24, 35, 33, 39, 43, 11, 30, 34, 39, 18, 17, 40, 50, 27, 23, 12, 17, 12, 35, 38]\n"
     ]
    }
   ],
   "source": [
    "import random\n",
    "list_random = [random.randint(10, 50) for x in range(1,100)]\n",
    "print(list_random)"
   ]
  },
  {
   "cell_type": "raw",
   "metadata": {},
   "source": [
    "# Create a new list from this random list, with numbers that are divisible by 3"
   ]
  },
  {
   "cell_type": "code",
   "execution_count": 63,
   "metadata": {},
   "outputs": [
    {
     "name": "stdout",
     "output_type": "stream",
     "text": [
      "[15, 42, 15, 39, 42, 15, 33, 39, 48, 24, 33, 42, 24, 27, 36, 21, 30, 42, 45, 30, 42, 12, 15, 33, 45, 12, 24, 33, 39, 30, 39, 18, 27, 12, 12]\n"
     ]
    }
   ],
   "source": [
    "list_div_by3 = [x for x in list_random if x % 3 == 0]\n",
    "print(list_div_by3)"
   ]
  },
  {
   "cell_type": "raw",
   "metadata": {},
   "source": [
    "# Calculate the length of these two lists and store the difference in a new variable"
   ]
  },
  {
   "cell_type": "code",
   "execution_count": 68,
   "metadata": {},
   "outputs": [
    {
     "name": "stdout",
     "output_type": "stream",
     "text": [
      "64\n"
     ]
    }
   ],
   "source": [
    "len1 = len(list_random) - len(list_div_by3)\n",
    "print(len1)"
   ]
  },
  {
   "cell_type": "raw",
   "metadata": {},
   "source": [
    "# Using a loop generate both lists and find the difference 3 times"
   ]
  },
  {
   "cell_type": "code",
   "execution_count": 70,
   "metadata": {},
   "outputs": [
    {
     "name": "stdout",
     "output_type": "stream",
     "text": [
      "[18, 18, 44, 31, 29, 49, 28, 43, 46, 22, 42, 36, 42, 38, 12, 43, 30, 15, 32, 45, 20, 21, 46, 39, 25, 40, 25, 39, 17, 23, 22, 38, 16, 10, 47, 41, 32, 33, 44, 49, 17, 30, 29, 39, 47, 14, 47, 40, 11, 27, 35, 11, 14, 36, 41, 18, 30, 35, 23, 30, 27, 31, 25, 43, 30, 50, 44, 29, 30, 39, 20, 24, 39, 32, 30, 15, 15, 36, 28, 29, 25, 42, 27, 47, 35, 40, 33, 42, 22, 12, 28, 23, 14, 18, 29, 10, 50, 50, 26]\n",
      "[48, 30, 45, 48, 30, 27, 24, 42, 45, 36, 15, 15, 21, 36, 12, 21, 15, 21, 45, 45, 39, 18, 15, 15, 42, 15, 36, 27]\n",
      "63\n",
      "[31, 42, 39, 30, 12, 22, 14, 45, 27, 32, 30, 12, 18, 25, 17, 27, 29, 35, 13, 20, 21, 13, 32, 42, 35, 29, 10, 37, 43, 11, 11, 16, 31, 15, 42, 43, 28, 14, 50, 22, 25, 32, 34, 36, 46, 35, 43, 29, 18, 10, 32, 34, 10, 19, 43, 18, 15, 42, 11, 42, 16, 42, 41, 40, 45, 10, 26, 43, 40, 42, 25, 28, 32, 35, 27, 41, 49, 19, 12, 24, 41, 15, 32, 30, 11, 20, 17, 50, 43, 23, 38, 40, 48, 29, 31, 14, 37, 18, 38]\n",
      "[48, 30, 45, 48, 30, 27, 24, 42, 45, 36, 15, 15, 21, 36, 12, 21, 15, 21, 45, 45, 39, 18, 15, 15, 42, 15, 36, 27]\n",
      "69\n",
      "[34, 15, 34, 50, 13, 24, 27, 46, 41, 30, 21, 11, 30, 13, 49, 48, 22, 14, 16, 45, 48, 15, 16, 16, 35, 31, 45, 49, 11, 32, 33, 31, 43, 21, 14, 34, 20, 49, 39, 37, 46, 28, 42, 20, 45, 41, 19, 22, 15, 15, 15, 10, 12, 47, 41, 41, 20, 23, 15, 23, 39, 11, 21, 17, 32, 20, 20, 15, 35, 18, 27, 48, 10, 50, 21, 37, 33, 25, 35, 32, 16, 48, 35, 32, 45, 34, 47, 15, 28, 49, 38, 24, 46, 41, 46, 50, 13, 33, 24]\n",
      "[48, 30, 45, 48, 30, 27, 24, 42, 45, 36, 15, 15, 21, 36, 12, 21, 15, 21, 45, 45, 39, 18, 15, 15, 42, 15, 36, 27]\n",
      "64\n"
     ]
    }
   ],
   "source": [
    "list_new=[]\n",
    "for i in range(0,3):\n",
    "    list_random_new = [random.randint(10, 50) for x in range(1,100)]\n",
    "    print(list_random_new)\n",
    "    list_div_by3_new = [x for x in list_random_new if x % 3 == 0]\n",
    "    print(list4)\n",
    "    diff_length = len(list_random_new) - len(list_div_by3_new)\n",
    "    print(diff_length)\n",
    "    list_new.append(diff_length)\n",
    "    \n",
    "    "
   ]
  },
  {
   "cell_type": "raw",
   "metadata": {},
   "source": [
    "# Find the arithmetic mean of those differences"
   ]
  },
  {
   "cell_type": "code",
   "execution_count": 71,
   "metadata": {},
   "outputs": [
    {
     "name": "stdout",
     "output_type": "stream",
     "text": [
      "65.33333333333333\n"
     ]
    }
   ],
   "source": [
    "mean_diff = sum(list_new)/len(list_new)\n",
    "print(mean_diff)"
   ]
  },
  {
   "cell_type": "markdown",
   "metadata": {},
   "source": [
    "# Exercise # 3\n",
    "# Data Wrangling with Python: Activity 2 page 31"
   ]
  },
  {
   "cell_type": "raw",
   "metadata": {},
   "source": [
    "# Get multiline text and save it in a Python variable"
   ]
  },
  {
   "cell_type": "code",
   "execution_count": 39,
   "metadata": {},
   "outputs": [],
   "source": [
    "variable1 = \"\"\"It is a truth universally acknowledged, that a single man in possession of a good fortune, must be in want of a wife.\n",
    "\n",
    "However little known the feelings or views of such a man may be on his first entering a neighbourhood, this truth is so well fixed in the minds of the surrounding families, that he is considered the rightful property of some one or other of their daughters.\n",
    "\n",
    "“My dear Mr. Bennet,” said his lady to him one day, “have you heard that Netherfield Park is let at last?”\n",
    "\n",
    "Mr. Bennet replied that he had not.\n",
    "\n",
    "“But it is,” returned she; “for Mrs. Long has just been here, and she told me all about it.”\n",
    "\n",
    "Mr. Bennet made no answer.\n",
    "\n",
    "“Do you not want to know who has taken it?” cried his wife impatiently.\n",
    "\n",
    "“You want to tell me, and I have no objection to hearing it.”\n",
    "\n",
    "This was invitation enough.\n",
    "\n",
    "“Why, my dear, you must know, Mrs. Long says that Netherfield is taken by a young man of large fortune from the north of England; that he came down on Monday in a chaise and four to see the place, and was so much delighted with it, that he agreed with Mr. Morris immediately; that he is to take possession before Michaelmas, and some of his servants are to be in the house by the end of next week.”\n",
    "\n",
    "“What is his name?”\n",
    "\n",
    "“Bingley.”\n",
    "\n",
    "“Is he married or single?”\n",
    "\n",
    "“Oh! Single, my dear, to be sure! A single man of large fortune; four or five thousand a year. What a fine thing for our girls!”\n",
    "\n",
    "“How so? How can it affect them?”\n",
    "\n",
    "“My dear Mr. Bennet,” replied his wife, “how can you be so tiresome! You must know that I am thinking of his marrying one of them.”\n",
    "\n",
    "“Is that his design in settling here?”\n",
    "\n",
    "“Design! Nonsense, how can you talk so! But it is very likely that he may fall in love with one of them, and therefore you must visit him as soon as he comes.”\n",
    "\n",
    "“I see no occasion for that. You and the girls may go, or you may send them by themselves, which perhaps will be still better, for as you are as handsome as any of them, Mr. Bingley may like you the best of the party.”\n",
    "\n",
    "“My dear, you flatter me. I certainly have had my share of beauty, but I do not pretend to be anything extraordinary now. When a woman has five grown-up daughters, she ought to give over thinking of her own beauty.”\n",
    "\n",
    "“In such cases, a woman has not often much beauty to think of.”\n",
    "\n",
    "“But, my dear, you must indeed go and see Mr. Bingley when he comes into the neighbourhood.”\n",
    "\n",
    "“It is more than I engage for, I assure you.”\n",
    "\n",
    "“But consider your daughters. Only think what an establishment it would be for one of them. Sir William and Lady Lucas are determined to go, merely on that account, for in general, you know, they visit no newcomers. Indeed you must go, for it will be impossible for us to visit him if you do not.”\n",
    "\n",
    "“You are over-scrupulous, surely. I dare say Mr. Bingley will be very glad to see you; and I will send a few lines by you to assure him of my hearty consent to his marrying whichever he chooses of the girls; though I must throw in a good word for my little Lizzy.”\n",
    "\n",
    "“I desire you will do no such thing. Lizzy is not a bit better than the others; and I am sure she is not half so handsome as Jane, nor half so good-humoured as Lydia. But you are always giving her the preference.”\n",
    "\n",
    "“They have none of them much to recommend them,” replied he; “they are all silly and ignorant like other girls; but Lizzy has something more of quickness than her sisters.”\n",
    "\n",
    "“Mr. Bennet, how can you abuse your own children in such a way? You take delight in vexing me. You have no compassion for my poor nerves.”\n",
    "\n",
    "“You mistake me, my dear. I have a high respect for your nerves. They are my old friends. I have heard you mention them with consideration these last twenty years at least.”\n",
    "\n",
    "“Ah, you do not know what I suffer.”\n",
    "\n",
    "“But I hope you will get over it, and live to see many young men of four thousand a year come into the neighbourhood.”\n",
    "\n",
    "“It will be no use to us, if twenty such should come, since you will not visit them.”\n",
    "\n",
    "“Depend upon it, my dear, that when there are twenty, I will visit them all.”\n",
    "\n",
    "Mr. Bennet was so odd a mixture of quick parts, sarcastic humour, reserve, and caprice, that the experience of three-and-twenty years had been insufficient to make his wife understand his character. Her mind was less difficult to develop. She was a woman of mean understanding, little information, and uncertain temper. When she was discontented, she fancied herself nervous. The business of her life was to get her daughters married; its solace was visiting and news.\"\"\""
   ]
  },
  {
   "cell_type": "code",
   "execution_count": 40,
   "metadata": {},
   "outputs": [
    {
     "data": {
      "text/plain": [
       "'It is a truth universally acknowledged, that a single man in possession of a good fortune, must be in want of a wife.\\n\\nHowever little known the feelings or views of such a man may be on his first entering a neighbourhood, this truth is so well fixed in the minds of the surrounding families, that he is considered the rightful property of some one or other of their daughters.\\n\\n“My dear Mr. Bennet,” said his lady to him one day, “have you heard that Netherfield Park is let at last?”\\n\\nMr. Bennet replied that he had not.\\n\\n“But it is,” returned she; “for Mrs. Long has just been here, and she told me all about it.”\\n\\nMr. Bennet made no answer.\\n\\n“Do you not want to know who has taken it?” cried his wife impatiently.\\n\\n“You want to tell me, and I have no objection to hearing it.”\\n\\nThis was invitation enough.\\n\\n“Why, my dear, you must know, Mrs. Long says that Netherfield is taken by a young man of large fortune from the north of England; that he came down on Monday in a chaise and four to see the place, and was so much delighted with it, that he agreed with Mr. Morris immediately; that he is to take possession before Michaelmas, and some of his servants are to be in the house by the end of next week.”\\n\\n“What is his name?”\\n\\n“Bingley.”\\n\\n“Is he married or single?”\\n\\n“Oh! Single, my dear, to be sure! A single man of large fortune; four or five thousand a year. What a fine thing for our girls!”\\n\\n“How so? How can it affect them?”\\n\\n“My dear Mr. Bennet,” replied his wife, “how can you be so tiresome! You must know that I am thinking of his marrying one of them.”\\n\\n“Is that his design in settling here?”\\n\\n“Design! Nonsense, how can you talk so! But it is very likely that he may fall in love with one of them, and therefore you must visit him as soon as he comes.”\\n\\n“I see no occasion for that. You and the girls may go, or you may send them by themselves, which perhaps will be still better, for as you are as handsome as any of them, Mr. Bingley may like you the best of the party.”\\n\\n“My dear, you flatter me. I certainly have had my share of beauty, but I do not pretend to be anything extraordinary now. When a woman has five grown-up daughters, she ought to give over thinking of her own beauty.”\\n\\n“In such cases, a woman has not often much beauty to think of.”\\n\\n“But, my dear, you must indeed go and see Mr. Bingley when he comes into the neighbourhood.”\\n\\n“It is more than I engage for, I assure you.”\\n\\n“But consider your daughters. Only think what an establishment it would be for one of them. Sir William and Lady Lucas are determined to go, merely on that account, for in general, you know, they visit no newcomers. Indeed you must go, for it will be impossible for us to visit him if you do not.”\\n\\n“You are over-scrupulous, surely. I dare say Mr. Bingley will be very glad to see you; and I will send a few lines by you to assure him of my hearty consent to his marrying whichever he chooses of the girls; though I must throw in a good word for my little Lizzy.”\\n\\n“I desire you will do no such thing. Lizzy is not a bit better than the others; and I am sure she is not half so handsome as Jane, nor half so good-humoured as Lydia. But you are always giving her the preference.”\\n\\n“They have none of them much to recommend them,” replied he; “they are all silly and ignorant like other girls; but Lizzy has something more of quickness than her sisters.”\\n\\n“Mr. Bennet, how can you abuse your own children in such a way? You take delight in vexing me. You have no compassion for my poor nerves.”\\n\\n“You mistake me, my dear. I have a high respect for your nerves. They are my old friends. I have heard you mention them with consideration these last twenty years at least.”\\n\\n“Ah, you do not know what I suffer.”\\n\\n“But I hope you will get over it, and live to see many young men of four thousand a year come into the neighbourhood.”\\n\\n“It will be no use to us, if twenty such should come, since you will not visit them.”\\n\\n“Depend upon it, my dear, that when there are twenty, I will visit them all.”\\n\\nMr. Bennet was so odd a mixture of quick parts, sarcastic humour, reserve, and caprice, that the experience of three-and-twenty years had been insufficient to make his wife understand his character. Her mind was less difficult to develop. She was a woman of mean understanding, little information, and uncertain temper. When she was discontented, she fancied herself nervous. The business of her life was to get her daughters married; its solace was visiting and news.'"
      ]
     },
     "execution_count": 40,
     "metadata": {},
     "output_type": "execute_result"
    }
   ],
   "source": [
    "variable1"
   ]
  },
  {
   "cell_type": "code",
   "execution_count": 156,
   "metadata": {},
   "outputs": [
    {
     "data": {
      "text/plain": [
       "str"
      ]
     },
     "execution_count": 156,
     "metadata": {},
     "output_type": "execute_result"
    }
   ],
   "source": [
    "type(variable1)"
   ]
  },
  {
   "cell_type": "code",
   "execution_count": 157,
   "metadata": {},
   "outputs": [
    {
     "data": {
      "text/plain": [
       "4240"
      ]
     },
     "execution_count": 157,
     "metadata": {},
     "output_type": "execute_result"
    }
   ],
   "source": [
    "len(variable1)"
   ]
  },
  {
   "cell_type": "raw",
   "metadata": {},
   "source": [
    "# Remove newlines"
   ]
  },
  {
   "cell_type": "code",
   "execution_count": 158,
   "metadata": {},
   "outputs": [
    {
     "data": {
      "text/plain": [
       "'It is a truth universally acknowledged that a single man in possession of a good fortune must be in want of a wife However little known the feelings or views of such a man may be on his first entering a neighbourhood this truth is so well fixed in the minds of the surrounding families that he is considered the rightful property of some one or other of their daughters My dear Mr Bennet said his lady to him one day have you heard that Netherfield Park is let at last Mr Bennet replied that he had not But it is returned she for Mrs Long has just been here and she told me all about it Mr Bennet made no answer Do you not want to know who has taken it cried his wife impatiently You want to tell me and I have no objection to hearing it This was invitation enough Why my dear you must know Mrs Long says that Netherfield is taken by a young man of large fortune from the north of England that he came down on Monday in a chaise and four to see the place and was so much delighted with it that he agreed with Mr Morris immediately that he is to take possession before Michaelmas and some of his servants are to be in the house by the end of next week What is his name Bingley Is he married or single Oh Single my dear to be sure A single man of large fortune four or five thousand a year What a fine thing for our girls How so How can it affect them My dear Mr Bennet replied his wife how can you be so tiresome You must know that I am thinking of his marrying one of them Is that his design in settling here Design Nonsense how can you talk so But it is very likely that he may fall in love with one of them and therefore you must visit him as soon as he comes I see no occasion for that You and the girls may go or you may send them by themselves which perhaps will be still better for as you are as handsome as any of them Mr Bingley may like you the best of the party My dear you flatter me I certainly have had my share of beauty but I do not pretend to be anything extraordinary now When a woman has five grown up daughters she ought to give over thinking of her own beauty In such cases a woman has not often much beauty to think of But my dear you must indeed go and see Mr Bingley when he comes into the neighbourhood It is more than I engage for I assure you But consider your daughters Only think what an establishment it would be for one of them Sir William and Lady Lucas are determined to go merely on that account for in general you know they visit no newcomers Indeed you must go for it will be impossible for us to visit him if you do not You are over scrupulous surely I dare say Mr Bingley will be very glad to see you and I will send a few lines by you to assure him of my hearty consent to his marrying whichever he chooses of the girls though I must throw in a good word for my little Lizzy I desire you will do no such thing Lizzy is not a bit better than the others and I am sure she is not half so handsome as Jane nor half so good humoured as Lydia But you are always giving her the preference They have none of them much to recommend them replied he they are all silly and ignorant like other girls but Lizzy has something more of quickness than her sisters Mr Bennet how can you abuse your own children in such a way You take delight in vexing me You have no compassion for my poor nerves You mistake me my dear I have a high respect for your nerves They are my old friends I have heard you mention them with consideration these last twenty years at least Ah you do not know what I suffer But I hope you will get over it and live to see many young men of four thousand a year come into the neighbourhood It will be no use to us if twenty such should come since you will not visit them Depend upon it my dear that when there are twenty I will visit them all Mr Bennet was so odd a mixture of quick parts sarcastic humour reserve and caprice that the experience of three and twenty years had been insufficient to make his wife understand his character Her mind was less difficult to develop She was a woman of mean understanding little information and uncertain temper When she was discontented she fancied herself nervous The business of her life was to get her daughters married its solace was visiting and news'"
      ]
     },
     "execution_count": 158,
     "metadata": {},
     "output_type": "execute_result"
    }
   ],
   "source": [
    "variable1.rstrip()"
   ]
  },
  {
   "cell_type": "raw",
   "metadata": {},
   "source": [
    "# Replace all commas and new lines with spaces"
   ]
  },
  {
   "cell_type": "code",
   "execution_count": 159,
   "metadata": {},
   "outputs": [],
   "source": [
    "variable1 = variable1.replace(\",\",\" \").replace(\"\\n\\n\", \" \")"
   ]
  },
  {
   "cell_type": "raw",
   "metadata": {},
   "source": [
    "# Remove all non alpha numerc and underscore characters using regular expression"
   ]
  },
  {
   "cell_type": "code",
   "execution_count": 160,
   "metadata": {},
   "outputs": [],
   "source": [
    "import re\n",
    "variable1 = re.sub('[^A-Za-z0-9]+', ' ', variable1)"
   ]
  },
  {
   "cell_type": "raw",
   "metadata": {},
   "source": [
    "# Find all words in the string"
   ]
  },
  {
   "cell_type": "code",
   "execution_count": 161,
   "metadata": {},
   "outputs": [
    {
     "data": {
      "text/plain": [
       "852"
      ]
     },
     "execution_count": 161,
     "metadata": {},
     "output_type": "execute_result"
    }
   ],
   "source": [
    "word_list = variable1.split()\n",
    "len(word_list)\n"
   ]
  },
  {
   "cell_type": "raw",
   "metadata": {},
   "source": [
    "# Create a list of unique words"
   ]
  },
  {
   "cell_type": "code",
   "execution_count": 162,
   "metadata": {},
   "outputs": [
    {
     "data": {
      "text/plain": [
       "340"
      ]
     },
     "execution_count": 162,
     "metadata": {},
     "output_type": "execute_result"
    }
   ],
   "source": [
    "unique_words = list(dict.fromkeys(word_list).keys())\n",
    "len(unique_words)"
   ]
  },
  {
   "cell_type": "code",
   "execution_count": 163,
   "metadata": {},
   "outputs": [
    {
     "data": {
      "text/plain": [
       "['It',\n",
       " 'is',\n",
       " 'a',\n",
       " 'truth',\n",
       " 'universally',\n",
       " 'acknowledged',\n",
       " 'that',\n",
       " 'single',\n",
       " 'man',\n",
       " 'in',\n",
       " 'possession',\n",
       " 'of',\n",
       " 'good',\n",
       " 'fortune',\n",
       " 'must',\n",
       " 'be',\n",
       " 'want',\n",
       " 'wife',\n",
       " 'However',\n",
       " 'little',\n",
       " 'known',\n",
       " 'the',\n",
       " 'feelings',\n",
       " 'or',\n",
       " 'views',\n",
       " 'such',\n",
       " 'may',\n",
       " 'on',\n",
       " 'his',\n",
       " 'first',\n",
       " 'entering',\n",
       " 'neighbourhood',\n",
       " 'this',\n",
       " 'so',\n",
       " 'well',\n",
       " 'fixed',\n",
       " 'minds',\n",
       " 'surrounding',\n",
       " 'families',\n",
       " 'he',\n",
       " 'considered',\n",
       " 'rightful',\n",
       " 'property',\n",
       " 'some',\n",
       " 'one',\n",
       " 'other',\n",
       " 'their',\n",
       " 'daughters',\n",
       " 'My',\n",
       " 'dear',\n",
       " 'Mr',\n",
       " 'Bennet',\n",
       " 'said',\n",
       " 'lady',\n",
       " 'to',\n",
       " 'him',\n",
       " 'day',\n",
       " 'have',\n",
       " 'you',\n",
       " 'heard',\n",
       " 'Netherfield',\n",
       " 'Park',\n",
       " 'let',\n",
       " 'at',\n",
       " 'last',\n",
       " 'replied',\n",
       " 'had',\n",
       " 'not',\n",
       " 'But',\n",
       " 'it',\n",
       " 'returned',\n",
       " 'she',\n",
       " 'for',\n",
       " 'Mrs',\n",
       " 'Long',\n",
       " 'has',\n",
       " 'just',\n",
       " 'been',\n",
       " 'here',\n",
       " 'and',\n",
       " 'told',\n",
       " 'me',\n",
       " 'all',\n",
       " 'about',\n",
       " 'made',\n",
       " 'no',\n",
       " 'answer',\n",
       " 'Do',\n",
       " 'know',\n",
       " 'who',\n",
       " 'taken',\n",
       " 'cried',\n",
       " 'impatiently',\n",
       " 'You',\n",
       " 'tell',\n",
       " 'I',\n",
       " 'objection',\n",
       " 'hearing',\n",
       " 'This',\n",
       " 'was',\n",
       " 'invitation',\n",
       " 'enough',\n",
       " 'Why',\n",
       " 'my',\n",
       " 'says',\n",
       " 'by',\n",
       " 'young',\n",
       " 'large',\n",
       " 'from',\n",
       " 'north',\n",
       " 'England',\n",
       " 'came',\n",
       " 'down',\n",
       " 'Monday',\n",
       " 'chaise',\n",
       " 'four',\n",
       " 'see',\n",
       " 'place',\n",
       " 'much',\n",
       " 'delighted',\n",
       " 'with',\n",
       " 'agreed',\n",
       " 'Morris',\n",
       " 'immediately',\n",
       " 'take',\n",
       " 'before',\n",
       " 'Michaelmas',\n",
       " 'servants',\n",
       " 'are',\n",
       " 'house',\n",
       " 'end',\n",
       " 'next',\n",
       " 'week',\n",
       " 'What',\n",
       " 'name',\n",
       " 'Bingley',\n",
       " 'Is',\n",
       " 'married',\n",
       " 'Oh',\n",
       " 'Single',\n",
       " 'sure',\n",
       " 'A',\n",
       " 'five',\n",
       " 'thousand',\n",
       " 'year',\n",
       " 'fine',\n",
       " 'thing',\n",
       " 'our',\n",
       " 'girls',\n",
       " 'How',\n",
       " 'can',\n",
       " 'affect',\n",
       " 'them',\n",
       " 'how',\n",
       " 'tiresome',\n",
       " 'am',\n",
       " 'thinking',\n",
       " 'marrying',\n",
       " 'design',\n",
       " 'settling',\n",
       " 'Design',\n",
       " 'Nonsense',\n",
       " 'talk',\n",
       " 'very',\n",
       " 'likely',\n",
       " 'fall',\n",
       " 'love',\n",
       " 'therefore',\n",
       " 'visit',\n",
       " 'as',\n",
       " 'soon',\n",
       " 'comes',\n",
       " 'occasion',\n",
       " 'go',\n",
       " 'send',\n",
       " 'themselves',\n",
       " 'which',\n",
       " 'perhaps',\n",
       " 'will',\n",
       " 'still',\n",
       " 'better',\n",
       " 'handsome',\n",
       " 'any',\n",
       " 'like',\n",
       " 'best',\n",
       " 'party',\n",
       " 'flatter',\n",
       " 'certainly',\n",
       " 'share',\n",
       " 'beauty',\n",
       " 'but',\n",
       " 'do',\n",
       " 'pretend',\n",
       " 'anything',\n",
       " 'extraordinary',\n",
       " 'now',\n",
       " 'When',\n",
       " 'woman',\n",
       " 'grown',\n",
       " 'up',\n",
       " 'ought',\n",
       " 'give',\n",
       " 'over',\n",
       " 'her',\n",
       " 'own',\n",
       " 'In',\n",
       " 'cases',\n",
       " 'often',\n",
       " 'think',\n",
       " 'indeed',\n",
       " 'when',\n",
       " 'into',\n",
       " 'more',\n",
       " 'than',\n",
       " 'engage',\n",
       " 'assure',\n",
       " 'consider',\n",
       " 'your',\n",
       " 'Only',\n",
       " 'what',\n",
       " 'an',\n",
       " 'establishment',\n",
       " 'would',\n",
       " 'Sir',\n",
       " 'William',\n",
       " 'Lady',\n",
       " 'Lucas',\n",
       " 'determined',\n",
       " 'merely',\n",
       " 'account',\n",
       " 'general',\n",
       " 'they',\n",
       " 'newcomers',\n",
       " 'Indeed',\n",
       " 'impossible',\n",
       " 'us',\n",
       " 'if',\n",
       " 'scrupulous',\n",
       " 'surely',\n",
       " 'dare',\n",
       " 'say',\n",
       " 'glad',\n",
       " 'few',\n",
       " 'lines',\n",
       " 'hearty',\n",
       " 'consent',\n",
       " 'whichever',\n",
       " 'chooses',\n",
       " 'though',\n",
       " 'throw',\n",
       " 'word',\n",
       " 'Lizzy',\n",
       " 'desire',\n",
       " 'bit',\n",
       " 'others',\n",
       " 'half',\n",
       " 'Jane',\n",
       " 'nor',\n",
       " 'humoured',\n",
       " 'Lydia',\n",
       " 'always',\n",
       " 'giving',\n",
       " 'preference',\n",
       " 'They',\n",
       " 'none',\n",
       " 'recommend',\n",
       " 'silly',\n",
       " 'ignorant',\n",
       " 'something',\n",
       " 'quickness',\n",
       " 'sisters',\n",
       " 'abuse',\n",
       " 'children',\n",
       " 'way',\n",
       " 'delight',\n",
       " 'vexing',\n",
       " 'compassion',\n",
       " 'poor',\n",
       " 'nerves',\n",
       " 'mistake',\n",
       " 'high',\n",
       " 'respect',\n",
       " 'old',\n",
       " 'friends',\n",
       " 'mention',\n",
       " 'consideration',\n",
       " 'these',\n",
       " 'twenty',\n",
       " 'years',\n",
       " 'least',\n",
       " 'Ah',\n",
       " 'suffer',\n",
       " 'hope',\n",
       " 'get',\n",
       " 'live',\n",
       " 'many',\n",
       " 'men',\n",
       " 'come',\n",
       " 'use',\n",
       " 'should',\n",
       " 'since',\n",
       " 'Depend',\n",
       " 'upon',\n",
       " 'there',\n",
       " 'odd',\n",
       " 'mixture',\n",
       " 'quick',\n",
       " 'parts',\n",
       " 'sarcastic',\n",
       " 'humour',\n",
       " 'reserve',\n",
       " 'caprice',\n",
       " 'experience',\n",
       " 'three',\n",
       " 'insufficient',\n",
       " 'make',\n",
       " 'understand',\n",
       " 'character',\n",
       " 'Her',\n",
       " 'mind',\n",
       " 'less',\n",
       " 'difficult',\n",
       " 'develop',\n",
       " 'She',\n",
       " 'mean',\n",
       " 'understanding',\n",
       " 'information',\n",
       " 'uncertain',\n",
       " 'temper',\n",
       " 'discontented',\n",
       " 'fancied',\n",
       " 'herself',\n",
       " 'nervous',\n",
       " 'The',\n",
       " 'business',\n",
       " 'life',\n",
       " 'its',\n",
       " 'solace',\n",
       " 'visiting',\n",
       " 'news']"
      ]
     },
     "execution_count": 163,
     "metadata": {},
     "output_type": "execute_result"
    }
   ],
   "source": [
    "unique_list"
   ]
  },
  {
   "cell_type": "raw",
   "metadata": {},
   "source": [
    "# Create a list of top 25 words using sorted"
   ]
  },
  {
   "cell_type": "code",
   "execution_count": 165,
   "metadata": {},
   "outputs": [
    {
     "data": {
      "text/plain": [
       "[('of', 29),\n",
       " ('you', 24),\n",
       " ('to', 22),\n",
       " ('a', 20),\n",
       " ('the', 17),\n",
       " ('and', 17),\n",
       " ('I', 17),\n",
       " ('that', 15),\n",
       " ('is', 12),\n",
       " ('for', 12),\n",
       " ('in', 11),\n",
       " ('be', 11),\n",
       " ('his', 11),\n",
       " ('he', 11),\n",
       " ('it', 11),\n",
       " ('them', 11),\n",
       " ('Mr', 10),\n",
       " ('my', 10),\n",
       " ('not', 9),\n",
       " ('will', 9),\n",
       " ('so', 8),\n",
       " ('dear', 8),\n",
       " ('was', 8),\n",
       " ('are', 8),\n",
       " ('must', 7)]"
      ]
     },
     "execution_count": 165,
     "metadata": {},
     "output_type": "execute_result"
    }
   ],
   "source": [
    "unique_words_count = {x:word_list.count(x) for x in word_list}\n",
    "unique_words_count_sorted = sorted(unique_words_count.items(), key=lambda key_val:key_val[1], reverse=True)\n",
    "unique_words_count_sorted[:25]"
   ]
  },
  {
   "cell_type": "markdown",
   "metadata": {},
   "source": [
    "# Exercise # 3\n",
    "# c. Data Wrangling with Python: Activity 3 page 49"
   ]
  },
  {
   "cell_type": "code",
   "execution_count": 4,
   "metadata": {},
   "outputs": [],
   "source": [
    "from itertools import (permutations, combinations, dropwhile, repeat, zip_longest)\n",
    "permutations?\n",
    "combinations?\n",
    "zip_longest?"
   ]
  },
  {
   "cell_type": "raw",
   "metadata": {},
   "source": [
    "# Generate all possible 3 digit numbers"
   ]
  },
  {
   "cell_type": "code",
   "execution_count": 55,
   "metadata": {},
   "outputs": [
    {
     "name": "stdout",
     "output_type": "stream",
     "text": [
      "(0, 1, 2)\n",
      "(0, 2, 1)\n",
      "(1, 0, 2)\n",
      "(1, 2, 0)\n",
      "(2, 0, 1)\n",
      "(2, 1, 0)\n"
     ]
    }
   ],
   "source": [
    "gen_numbers = permutations(range(3))\n",
    "for i in gen_numbers:\n",
    "    print(i)\n",
    "    assert isinstance(i, tuple)"
   ]
  },
  {
   "cell_type": "raw",
   "metadata": {},
   "source": [
    "# Use dropwhile to remove leading zeroes"
   ]
  },
  {
   "cell_type": "code",
   "execution_count": 140,
   "metadata": {},
   "outputs": [
    {
     "data": {
      "text/plain": [
       "[[1, 2], [2, 1], [1, 0, 2], [1, 2, 0], [2, 0, 1], [2, 1, 0]]"
      ]
     },
     "execution_count": 140,
     "metadata": {},
     "output_type": "execute_result"
    }
   ],
   "source": [
    "import itertools\n",
    "gen_numbers_zero = []\n",
    "for gen_numbers in permutations(range(3)):\n",
    "    list_new = list(dropwhile(lambda x:x<1, gen_numbers))\n",
    "    gen_numbers_zero.append(list_new)\n",
    "gen_numbers_zero"
   ]
  },
  {
   "cell_type": "code",
   "execution_count": 79,
   "metadata": {},
   "outputs": [
    {
     "data": {
      "text/plain": [
       "list"
      ]
     },
     "execution_count": 79,
     "metadata": {},
     "output_type": "execute_result"
    }
   ],
   "source": [
    "type(gen_numbers_zero)"
   ]
  },
  {
   "cell_type": "raw",
   "metadata": {},
   "source": [
    "# Define a function to create a whole number using pop method"
   ]
  },
  {
   "cell_type": "code",
   "execution_count": 148,
   "metadata": {},
   "outputs": [],
   "source": [
    "import math\n",
    "def create_num(list_new):\n",
    "    numb = 0\n",
    "    for x in range(0, len(list_new)):\n",
    "        numb += (list_new.pop() * (math.pow(10, x)))\n",
    "    return numb"
   ]
  },
  {
   "cell_type": "raw",
   "metadata": {},
   "source": [
    "# Create a number stack and call create_num function to create whole numbers for each item in the list"
   ]
  },
  {
   "cell_type": "code",
   "execution_count": 149,
   "metadata": {},
   "outputs": [
    {
     "name": "stdout",
     "output_type": "stream",
     "text": [
      "12.0\n",
      "21.0\n",
      "102.0\n",
      "120.0\n",
      "201.0\n",
      "210.0\n"
     ]
    }
   ],
   "source": [
    "for gen_numbers in permutations(range(3)):\n",
    "    num_stack = list(dropwhile(lambda x:x<1, gen_numbers))\n",
    "    print(create_num(num_stack))"
   ]
  },
  {
   "cell_type": "markdown",
   "metadata": {},
   "source": [
    "# d. Data Wrangling with Python: Activity 4 page 59"
   ]
  },
  {
   "cell_type": "raw",
   "metadata": {},
   "source": [
    "# Import Zip_longest"
   ]
  },
  {
   "cell_type": "code",
   "execution_count": 54,
   "metadata": {},
   "outputs": [],
   "source": [
    "from itertools import zip_longest"
   ]
  },
  {
   "cell_type": "raw",
   "metadata": {},
   "source": [
    "# Define a function to create a dictionary of header and line"
   ]
  },
  {
   "cell_type": "code",
   "execution_count": 55,
   "metadata": {},
   "outputs": [],
   "source": [
    "def zipfunction(main, detail):\n",
    "    line_zip = zip_longest(main,detail,fillvalue=None)\n",
    "    zip_dict = {k[0]: k[1] for k in line_zip}\n",
    "    return zip_dict"
   ]
  },
  {
   "cell_type": "raw",
   "metadata": {},
   "source": [
    "# Open file and read each line and call function to generate the dictionary"
   ]
  },
  {
   "cell_type": "code",
   "execution_count": 52,
   "metadata": {},
   "outputs": [
    {
     "name": "stdout",
     "output_type": "stream",
     "text": [
      "open\n",
      "{'Region': 'Central America and the Caribbean', 'Country': 'Antigua and Barbuda ', 'Item Type': 'Baby Food', 'Sales Channel': 'Online', 'Order Priority': 'M', 'Order Date': '12/20/2013', 'Order ID': '957081544', 'Ship Date': '1/11/2014', 'Units Sold': '552', 'Unit Price': '255.28', 'Unit Cost': '159.42', 'Total Revenue': '140914.56', 'Total Cost': '87999.84', 'Total Profit': '52914.72'}\n",
      "{'Region': 'Central America and the Caribbean', 'Country': 'Panama', 'Item Type': 'Snacks', 'Sales Channel': 'Offline', 'Order Priority': 'C', 'Order Date': '7/5/2010', 'Order ID': '301644504', 'Ship Date': '7/26/2010', 'Units Sold': '2167', 'Unit Price': '152.58', 'Unit Cost': '97.44', 'Total Revenue': '330640.86', 'Total Cost': '211152.48', 'Total Profit': '119488.38'}\n",
      "{'Region': 'Europe', 'Country': 'Czech Republic', 'Item Type': 'Beverages', 'Sales Channel': 'Offline', 'Order Priority': 'C', 'Order Date': '9/12/2011', 'Order ID': '478051030', 'Ship Date': '9/29/2011', 'Units Sold': '4778', 'Unit Price': '47.45', 'Unit Cost': '31.79', 'Total Revenue': '226716.10', 'Total Cost': '151892.62', 'Total Profit': '74823.48'}\n",
      "{'Region': 'Asia', 'Country': 'North Korea', 'Item Type': 'Cereal', 'Sales Channel': 'Offline', 'Order Priority': 'L', 'Order Date': '5/13/2010', 'Order ID': '892599952', 'Ship Date': '6/15/2010', 'Units Sold': '9016', 'Unit Price': '205.70', 'Unit Cost': '117.11', 'Total Revenue': '1854591.20', 'Total Cost': '1055863.76', 'Total Profit': '798727.44'}\n",
      "{'Region': 'Asia', 'Country': 'Sri Lanka', 'Item Type': 'Snacks', 'Sales Channel': 'Offline', 'Order Priority': 'C', 'Order Date': '7/20/2015', 'Order ID': '571902596', 'Ship Date': '7/27/2015', 'Units Sold': '7542', 'Unit Price': '152.58', 'Unit Cost': '97.44', 'Total Revenue': '1150758.36', 'Total Cost': '734892.48', 'Total Profit': '415865.88'}\n",
      "{'Region': 'Middle East and North Africa', 'Country': 'Morocco', 'Item Type': 'Personal Care', 'Sales Channel': 'Offline', 'Order Priority': 'L', 'Order Date': '11/8/2010', 'Order ID': '412882792', 'Ship Date': '11/22/2010', 'Units Sold': '48', 'Unit Price': '81.73', 'Unit Cost': '56.67', 'Total Revenue': '3923.04', 'Total Cost': '2720.16', 'Total Profit': '1202.88'}\n",
      "{'Region': 'Australia and Oceania', 'Country': 'Federated States of Micronesia', 'Item Type': 'Clothes', 'Sales Channel': 'Offline', 'Order Priority': 'H', 'Order Date': '3/28/2011', 'Order ID': '932776868', 'Ship Date': '5/10/2011', 'Units Sold': '8258', 'Unit Price': '109.28', 'Unit Cost': '35.84', 'Total Revenue': '902434.24', 'Total Cost': '295966.72', 'Total Profit': '606467.52'}\n",
      "{'Region': 'Europe', 'Country': 'Bosnia and Herzegovina', 'Item Type': 'Clothes', 'Sales Channel': 'Online', 'Order Priority': 'M', 'Order Date': '10/14/2013', 'Order ID': '919133651', 'Ship Date': '11/4/2013', 'Units Sold': '927', 'Unit Price': '109.28', 'Unit Cost': '35.84', 'Total Revenue': '101302.56', 'Total Cost': '33223.68', 'Total Profit': '68078.88'}\n",
      "{'Region': 'Middle East and North Africa', 'Country': 'Afghanistan', 'Item Type': 'Clothes', 'Sales Channel': 'Offline', 'Order Priority': 'M', 'Order Date': '8/27/2016', 'Order ID': '579814469', 'Ship Date': '10/5/2016', 'Units Sold': '8841', 'Unit Price': '109.28', 'Unit Cost': '35.84', 'Total Revenue': '966144.48', 'Total Cost': '316861.44', 'Total Profit': '649283.04'}\n",
      "{'Region': 'Sub-Saharan Africa', 'Country': 'Ethiopia', 'Item Type': 'Baby Food', 'Sales Channel': 'Online', 'Order Priority': 'M', 'Order Date': '4/13/2015', 'Order ID': '192993152', 'Ship Date': '5/7/2015', 'Units Sold': '9817', 'Unit Price': '255.28', 'Unit Cost': '159.42', 'Total Revenue': '2506083.76', 'Total Cost': '1565026.14', 'Total Profit': '941057.62'}\n",
      "{'Region': 'Middle East and North Africa', 'Country': 'Turkey', 'Item Type': 'Office Supplies', 'Sales Channel': 'Offline', 'Order Priority': 'C', 'Order Date': '9/25/2013', 'Order ID': '557156026', 'Ship Date': '10/15/2013', 'Units Sold': '3704', 'Unit Price': '651.21', 'Unit Cost': '524.96', 'Total Revenue': '2412081.84', 'Total Cost': '1944451.84', 'Total Profit': '467630.00'}\n",
      "{'Region': 'Middle East and North Africa', 'Country': 'Oman', 'Item Type': 'Cosmetics', 'Sales Channel': 'Online', 'Order Priority': 'M', 'Order Date': '5/12/2013', 'Order ID': '741101920', 'Ship Date': '5/17/2013', 'Units Sold': '7382', 'Unit Price': '437.20', 'Unit Cost': '263.33', 'Total Revenue': '3227410.40', 'Total Cost': '1943902.06', 'Total Profit': '1283508.34'}\n",
      "{'Region': 'Asia', 'Country': 'Malaysia', 'Item Type': 'Cereal', 'Sales Channel': 'Offline', 'Order Priority': 'L', 'Order Date': '7/31/2016', 'Order ID': '333942162', 'Ship Date': '8/25/2016', 'Units Sold': '9762', 'Unit Price': '205.70', 'Unit Cost': '117.11', 'Total Revenue': '2008043.40', 'Total Cost': '1143227.82', 'Total Profit': '864815.58'}\n",
      "{'Region': 'Central America and the Caribbean', 'Country': 'Saint Lucia', 'Item Type': 'Cosmetics', 'Sales Channel': 'Offline', 'Order Priority': 'H', 'Order Date': '7/6/2015', 'Order ID': '795100581', 'Ship Date': '7/16/2015', 'Units Sold': '6786', 'Unit Price': '437.20', 'Unit Cost': '263.33', 'Total Revenue': '2966839.20', 'Total Cost': '1786957.38', 'Total Profit': '1179881.82'}\n",
      "{'Region': 'Central America and the Caribbean', 'Country': 'Saint Vincent and the Grenadines', 'Item Type': 'Baby Food', 'Sales Channel': 'Online', 'Order Priority': 'L', 'Order Date': '11/28/2010', 'Order ID': '504313504', 'Ship Date': '12/3/2010', 'Units Sold': '6428', 'Unit Price': '255.28', 'Unit Cost': '159.42', 'Total Revenue': '1640939.84', 'Total Cost': '1024751.76', 'Total Profit': '616188.08'}\n",
      "{'Region': 'Middle East and North Africa', 'Country': 'Lebanon', 'Item Type': 'Meat', 'Sales Channel': 'Offline', 'Order Priority': 'H', 'Order Date': '12/17/2015', 'Order ID': '611629760', 'Ship Date': '1/31/2016', 'Units Sold': '3693', 'Unit Price': '421.89', 'Unit Cost': '364.69', 'Total Revenue': '1558039.77', 'Total Cost': '1346800.17', 'Total Profit': '211239.60'}\n",
      "{'Region': 'Europe', 'Country': 'Austria', 'Item Type': 'Cereal', 'Sales Channel': 'Offline', 'Order Priority': 'C', 'Order Date': '8/13/2014', 'Order ID': '987410676', 'Ship Date': '9/6/2014', 'Units Sold': '5616', 'Unit Price': '205.70', 'Unit Cost': '117.11', 'Total Revenue': '1155211.20', 'Total Cost': '657689.76', 'Total Profit': '497521.44'}\n",
      "{'Region': 'Europe', 'Country': 'Bulgaria', 'Item Type': 'Office Supplies', 'Sales Channel': 'Online', 'Order Priority': 'L', 'Order Date': '10/31/2010', 'Order ID': '672330081', 'Ship Date': '11/29/2010', 'Units Sold': '6266', 'Unit Price': '651.21', 'Unit Cost': '524.96', 'Total Revenue': '4080481.86', 'Total Cost': '3289399.36', 'Total Profit': '791082.50'}\n",
      "{'Region': 'North America', 'Country': 'Mexico', 'Item Type': 'Beverages', 'Sales Channel': 'Online', 'Order Priority': 'C', 'Order Date': '3/13/2017', 'Order ID': '127374303', 'Ship Date': '3/20/2017', 'Units Sold': '1742', 'Unit Price': '47.45', 'Unit Cost': '31.79', 'Total Revenue': '82657.90', 'Total Cost': '55378.18', 'Total Profit': '27279.72'}\n",
      "{'Region': 'Central America and the Caribbean', 'Country': 'Trinidad and Tobago', 'Item Type': 'Baby Food', 'Sales Channel': 'Offline', 'Order Priority': 'C', 'Order Date': '4/16/2013', 'Order ID': '783842170', 'Ship Date': '6/1/2013', 'Units Sold': '5172', 'Unit Price': '255.28', 'Unit Cost': '159.42', 'Total Revenue': '1320308.16', 'Total Cost': '824520.24', 'Total Profit': '495787.92'}\n",
      "{'Region': 'Middle East and North Africa', 'Country': 'Libya', 'Item Type': 'Beverages', 'Sales Channel': 'Offline', 'Order Priority': 'L', 'Order Date': '1/18/2010', 'Order ID': '993345010', 'Ship Date': '3/3/2010', 'Units Sold': '1718', 'Unit Price': '47.45', 'Unit Cost': '31.79', 'Total Revenue': '81519.10', 'Total Cost': '54615.22', 'Total Profit': '26903.88'}\n",
      "{'Region': 'Middle East and North Africa', 'Country': 'Algeria', 'Item Type': 'Baby Food', 'Sales Channel': 'Offline', 'Order Priority': 'M', 'Order Date': '9/5/2015', 'Order ID': '977806651', 'Ship Date': '10/14/2015', 'Units Sold': '3572', 'Unit Price': '255.28', 'Unit Cost': '159.42', 'Total Revenue': '911860.16', 'Total Cost': '569448.24', 'Total Profit': '342411.92'}\n"
     ]
    }
   ],
   "source": [
    "with open(\"C:/Lenin Data Science/sales_record.csv\",\"r\") as fd:\n",
    "    print(\"open\")\n",
    "    firstline = fd.readline()\n",
    "    main = firstline.replace(\"\\n\", \"\").split(',')\n",
    "    for x, line in enumerate(fd):\n",
    "        detail = line.replace(\"\\n\",\"\").split(',')\n",
    "        print(zipfunction(main,detail))\n",
    "        if x > 20:\n",
    "            break\n",
    "\n",
    "\n",
    "\n",
    "        "
   ]
  }
 ],
 "metadata": {
  "kernelspec": {
   "display_name": "Python 3",
   "language": "python",
   "name": "python3"
  },
  "language_info": {
   "codemirror_mode": {
    "name": "ipython",
    "version": 3
   },
   "file_extension": ".py",
   "mimetype": "text/x-python",
   "name": "python",
   "nbconvert_exporter": "python",
   "pygments_lexer": "ipython3",
   "version": "3.7.4"
  }
 },
 "nbformat": 4,
 "nbformat_minor": 2
}
